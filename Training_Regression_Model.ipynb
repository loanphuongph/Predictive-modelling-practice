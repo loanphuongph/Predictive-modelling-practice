{
  "nbformat": 4,
  "nbformat_minor": 0,
  "metadata": {
    "colab": {
      "provenance": []
    },
    "kernelspec": {
      "name": "python3",
      "display_name": "Python 3"
    },
    "language_info": {
      "name": "python"
    }
  },
  "cells": [
    {
      "cell_type": "markdown",
      "source": [
        "Import libraries and Read data"
      ],
      "metadata": {
        "id": "7w0XNCvLSzoR"
      }
    },
    {
      "cell_type": "code",
      "execution_count": null,
      "metadata": {
        "colab": {
          "base_uri": "https://localhost:8080/"
        },
        "id": "5wlo8boiSu4X",
        "outputId": "e2e75469-9b04-4245-d2f6-df76b20b8388"
      },
      "outputs": [
        {
          "output_type": "stream",
          "name": "stdout",
          "text": [
            "Drive already mounted at /content/drive; to attempt to forcibly remount, call drive.mount(\"/content/drive\", force_remount=True).\n"
          ]
        }
      ],
      "source": [
        "# Import Libraries\n",
        "import pandas as pd\n",
        "import matplotlib.pyplot as plt\n",
        "import seaborn as sns\n",
        "\n",
        "# Import data from Google Drive\n",
        "from google.colab import drive\n",
        "drive.mount('/content/drive')\n",
        "project_dir = 'drive/MyDrive/Capstone/'\n",
        "dataset = pd.read_excel(project_dir+'FT100.xlsx',sheet_name=['2022','2021','2020','2019','3_years','feature_engineer'])\n",
        "\n",
        "df = dataset['feature_engineer']"
      ]
    },
    {
      "cell_type": "markdown",
      "source": [
        "Select Y and *X*"
      ],
      "metadata": {
        "id": "GlF7kUEcSwjC"
      }
    },
    {
      "cell_type": "code",
      "source": [
        "#X\n",
        "rank = df['#']\n",
        "\n",
        "#Y\n",
        "metrics = [\n",
        "    'Overall satisfaction',\n",
        "    'Career service rank',\n",
        "    'Faculty with doctorates (%)',\n",
        "    'Women on board (%)',\n",
        "    'International course experience rank',\n",
        "    'International faculty (%)',\n",
        "    'International mobility rank',\n",
        "    'Employed in three months',\n",
        "    'Career progress rank',\n",
        "    'Female students (%)',\n",
        "    'Female faculty (%)',\n",
        "    'Value for money rank',\n",
        "    'International students (%)',\n",
        "    'Internships (%)',\n",
        "    'International board (%)',\n",
        "    'Weighted salary (US$)',\n",
        "    'Aims achieved (%)',\n",
        "    'Company internships (%)',\n",
        "    'Salary percentage increase',\n",
        "    'Salary today (US$)',\n",
        "    'Average course length (months)',\n",
        "    #'Overall satisfaction Growth Rate',\n",
        "    'Overall satisfaction Initial-Final Difference',\n",
        "    'Weighted Salary Binary',\n",
        "    #'Weighted Salary Category',\n",
        "    'Gender Diversity Score']\n",
        "    #'Overall satisfaction Z-score']\n",
        "\n",
        "selection_1 = ['Faculty with doctorates (%)', 'Women on board (%)',\n",
        "       'International course experience rank', 'International faculty (%)',\n",
        "       'International mobility rank', 'Career progress rank',\n",
        "       'Female students (%)', 'Female faculty (%)', 'Value for money rank',\n",
        "       'International students (%)', 'Weighted salary (US$)',\n",
        "       'Aims achieved (%)', 'Salary today (US$)',\n",
        "       'Average course length (months)', 'Gender Diversity Score']"
      ],
      "metadata": {
        "id": "jsKt4i3nS_uJ"
      },
      "execution_count": null,
      "outputs": []
    },
    {
      "cell_type": "markdown",
      "source": [
        "Train Regression Models"
      ],
      "metadata": {
        "id": "-52QcAHbTagB"
      }
    },
    {
      "cell_type": "markdown",
      "source": [
        "a) Gradient Boosting"
      ],
      "metadata": {
        "id": "ft5-8CN-TdKJ"
      }
    },
    {
      "cell_type": "code",
      "source": [
        "# Import necessary libraries\n",
        "from sklearn.preprocessing import StandardScaler\n",
        "from sklearn.model_selection import train_test_split\n",
        "from sklearn.ensemble import GradientBoostingRegressor\n",
        "from sklearn.metrics import mean_squared_error, r2_score, mean_absolute_error\n",
        "\n",
        "# Load dataset\n",
        "y = rank\n",
        "X = df[metrics]\n",
        "\n",
        "# Split the dataset into training and testing sets\n",
        "X_train, X_test, y_train, y_test = train_test_split(X, y, test_size=0.2, random_state=42)\n",
        "\n",
        "# Standardizing data\n",
        "scaler = StandardScaler()\n",
        "scaler.fit(X_train)\n",
        "\n",
        "# Initialize and train the GradientBoostingRegressor\n",
        "gb_regressor = GradientBoostingRegressor(n_estimators=468, learning_rate=0.1, max_depth=4, random_state=42)\n",
        "gb_regressor.fit(X_train, y_train)\n",
        "\n",
        "# Make predictions\n",
        "y_pred = gb_regressor.predict(X_test)\n",
        "\n",
        "# Calculate metrics\n",
        "mse = mean_squared_error(y_test, y_pred)\n",
        "rmse = mean_squared_error(y_test, y_pred, squared=False)\n",
        "mae = mean_absolute_error(y_test, y_pred)\n",
        "r2 = r2_score(y_test, y_pred)\n",
        "\n",
        "# Print metrics\n",
        "print(f\"Mean Squared Error (MSE): {mse}\")\n",
        "print(f\"Root Mean Squared Error (RMSE): {rmse}\")\n",
        "print(f\"Mean Absolute Error (MAE): {mae}\")\n",
        "print(f\"R^2 Score: {r2}\")"
      ],
      "metadata": {
        "colab": {
          "base_uri": "https://localhost:8080/"
        },
        "id": "E9ns8DjcThI5",
        "outputId": "47146b98-259b-407e-c743-4dd91a63c873"
      },
      "execution_count": null,
      "outputs": [
        {
          "output_type": "stream",
          "name": "stdout",
          "text": [
            "Mean Squared Error (MSE): 390.95258115402044\n",
            "Root Mean Squared Error (RMSE): 19.77252085987066\n",
            "Mean Absolute Error (MAE): 15.77270922925991\n",
            "R^2 Score: 0.5453148627482003\n"
          ]
        }
      ]
    },
    {
      "cell_type": "markdown",
      "source": [
        "b) XGradient Boosting"
      ],
      "metadata": {
        "id": "Ys7wYUPMWRHB"
      }
    },
    {
      "cell_type": "code",
      "source": [
        "import xgboost as xgb\n",
        "from sklearn.model_selection import train_test_split\n",
        "from sklearn.metrics import mean_squared_error, r2_score, mean_absolute_error\n",
        "\n",
        "# Load dataset\n",
        "y = rank\n",
        "X = df[metrics]\n",
        "\n",
        "# Split the dataset into training and testing sets\n",
        "X_train, X_test, y_train, y_test = train_test_split(X, y, test_size=0.2, random_state=42)\n",
        "\n",
        "# Initialize the XGBRegressor\n",
        "xgb_regressor = xgb.XGBRegressor(n_estimators=486, learning_rate=0.1, max_depth=4, random_state=42)\n",
        "\n",
        "# Fit the regressor to the training data\n",
        "xgb_regressor.fit(X_train, y_train)\n",
        "\n",
        "# Predict the target on the testing set\n",
        "y_pred = xgb_regressor.predict(X_test)\n",
        "\n",
        "# Calculate the performance metrics\n",
        "mse = mean_squared_error(y_test, y_pred)\n",
        "rmse = mse ** 0.5  # square root of MSE\n",
        "mae = mean_absolute_error(y_test, y_pred)\n",
        "r2 = r2_score(y_test, y_pred)\n",
        "\n",
        "# Print out the performance metrics\n",
        "print(f\"Mean Squared Error (MSE): {mse}\")\n",
        "print(f\"Root Mean Squared Error (RMSE): {rmse}\")\n",
        "print(f\"Mean Absolute Error (MAE): {mae}\")\n",
        "print(f\"R^2 Score: {r2}\")"
      ],
      "metadata": {
        "colab": {
          "base_uri": "https://localhost:8080/"
        },
        "id": "jouO4AESWOHh",
        "outputId": "df009c43-bca3-4675-ad28-afb352a36250"
      },
      "execution_count": null,
      "outputs": [
        {
          "output_type": "stream",
          "name": "stdout",
          "text": [
            "Mean Squared Error (MSE): 388.7069206679063\n",
            "Root Mean Squared Error (RMSE): 19.715651667340502\n",
            "Mean Absolute Error (MAE): 16.5591449244269\n",
            "R^2 Score: 0.5479266077412523\n"
          ]
        }
      ]
    },
    {
      "cell_type": "markdown",
      "source": [
        "Feature Selection"
      ],
      "metadata": {
        "id": "Ekb3Od2vXFrL"
      }
    },
    {
      "cell_type": "code",
      "source": [
        "import pandas as pd\n",
        "import numpy as np\n",
        "from sklearn.model_selection import train_test_split\n",
        "from sklearn.feature_selection import SelectKBest, f_classif\n",
        "from sklearn.ensemble import RandomForestClassifier\n",
        "from sklearn.feature_selection import RFE\n",
        "from sklearn.linear_model import LogisticRegression\n",
        "from xgboost import XGBClassifier\n",
        "\n",
        "# Split dataset into training and testing sets\n",
        "X_train, X_test, y_train, y_test = train_test_split(X, y, test_size=0.2, random_state=42)\n",
        "\n",
        "# Feature selection with Filter Method\n",
        "# Using SelectKBest to select the top k features\n",
        "k = 15  # number of features to select\n",
        "select_k_best = SelectKBest(f_classif, k=k)\n",
        "X_train_selected = select_k_best.fit_transform(X_train, y_train)\n",
        "X_test_selected = select_k_best.transform(X_test)\n",
        "\n",
        "# Get selected feature names\n",
        "selected_features = X.columns[select_k_best.get_support()]\n",
        "print(\"Selected features (Filter Method):\", selected_features)\n",
        "\n",
        "# Feature selection with Wrapper Method\n",
        "# Using Recursive Feature Elimination (RFE) with a logistic regression classifier\n",
        "rfe_selector = RFE(estimator=LogisticRegression(max_iter=10000), n_features_to_select=k, step=1)\n",
        "rfe_selector = rfe_selector.fit(X_train, y_train)\n",
        "X_train_rfe = rfe_selector.transform(X_train)\n",
        "X_test_rfe = rfe_selector.transform(X_test)\n",
        "\n",
        "# Get selected feature names\n",
        "selected_rfe_features = X.columns[rfe_selector.get_support()]\n",
        "print(\"Selected features (Wrapper Method):\", selected_rfe_features)\n",
        "\n",
        "# Feature selection with Embedded Method\n",
        "# Using RandomForestClassifier feature importances\n",
        "rf = RandomForestClassifier(n_estimators=100, random_state=42)\n",
        "rf.fit(X_train, y_train)\n",
        "\n",
        "# Get feature importances\n",
        "importances = rf.feature_importances_\n",
        "indices = np.argsort(importances)[::-1]\n",
        "\n",
        "# Select top k features\n",
        "selected_features_embedded = X.columns[indices[:k]]\n",
        "print(\"Selected features (Embedded Method):\", selected_features_embedded)\n",
        "\n",
        "# You can now use X_train_selected, X_train_rfe, or the top k features from the random forest for training your models"
      ],
      "metadata": {
        "colab": {
          "base_uri": "https://localhost:8080/"
        },
        "id": "Z2npkiEXj1JR",
        "outputId": "92671220-261a-4204-e2e9-26ce94e235ae"
      },
      "execution_count": null,
      "outputs": [
        {
          "output_type": "stream",
          "name": "stdout",
          "text": [
            "Selected features (Filter Method): Index(['Faculty with doctorates (%)', 'Women on board (%)',\n",
            "       'International course experience rank', 'International faculty (%)',\n",
            "       'International mobility rank', 'Career progress rank',\n",
            "       'Female students (%)', 'Female faculty (%)', 'Value for money rank',\n",
            "       'International students (%)', 'Weighted salary (US$)',\n",
            "       'Aims achieved (%)', 'Salary today (US$)',\n",
            "       'Average course length (months)', 'Gender Diversity Score'],\n",
            "      dtype='object')\n"
          ]
        },
        {
          "output_type": "stream",
          "name": "stderr",
          "text": [
            "/usr/local/lib/python3.10/dist-packages/sklearn/linear_model/_logistic.py:458: ConvergenceWarning: lbfgs failed to converge (status=1):\n",
            "STOP: TOTAL NO. of ITERATIONS REACHED LIMIT.\n",
            "\n",
            "Increase the number of iterations (max_iter) or scale the data as shown in:\n",
            "    https://scikit-learn.org/stable/modules/preprocessing.html\n",
            "Please also refer to the documentation for alternative solver options:\n",
            "    https://scikit-learn.org/stable/modules/linear_model.html#logistic-regression\n",
            "  n_iter_i = _check_optimize_result(\n",
            "/usr/local/lib/python3.10/dist-packages/sklearn/linear_model/_logistic.py:458: ConvergenceWarning: lbfgs failed to converge (status=1):\n",
            "STOP: TOTAL NO. of ITERATIONS REACHED LIMIT.\n",
            "\n",
            "Increase the number of iterations (max_iter) or scale the data as shown in:\n",
            "    https://scikit-learn.org/stable/modules/preprocessing.html\n",
            "Please also refer to the documentation for alternative solver options:\n",
            "    https://scikit-learn.org/stable/modules/linear_model.html#logistic-regression\n",
            "  n_iter_i = _check_optimize_result(\n"
          ]
        },
        {
          "output_type": "stream",
          "name": "stdout",
          "text": [
            "Selected features (Wrapper Method): Index(['Career service rank', 'Faculty with doctorates (%)',\n",
            "       'Women on board (%)', 'International course experience rank',\n",
            "       'International faculty (%)', 'International mobility rank',\n",
            "       'Employed in three months', 'Career progress rank',\n",
            "       'Female students (%)', 'Female faculty (%)', 'Value for money rank',\n",
            "       'International students (%)', 'International board (%)',\n",
            "       'Salary percentage increase', 'Gender Diversity Score'],\n",
            "      dtype='object')\n",
            "Selected features (Embedded Method): Index(['International faculty (%)', 'International course experience rank',\n",
            "       'Value for money rank', 'International board (%)',\n",
            "       'Weighted salary (US$)', 'Average course length (months)',\n",
            "       'Career progress rank', 'Female faculty (%)',\n",
            "       'Salary percentage increase', 'Women on board (%)',\n",
            "       'International mobility rank', 'Gender Diversity Score',\n",
            "       'Aims achieved (%)', 'Career service rank', 'Employed in three months'],\n",
            "      dtype='object')\n"
          ]
        }
      ]
    }
  ]
}