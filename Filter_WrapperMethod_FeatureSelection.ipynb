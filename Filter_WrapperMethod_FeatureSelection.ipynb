{
  "nbformat": 4,
  "nbformat_minor": 0,
  "metadata": {
    "colab": {
      "provenance": []
    },
    "kernelspec": {
      "name": "python3",
      "display_name": "Python 3"
    },
    "language_info": {
      "name": "python"
    }
  },
  "cells": [
    {
      "cell_type": "markdown",
      "source": [
        "Import libraries and dataset"
      ],
      "metadata": {
        "id": "VmYFkzSDo3ji"
      }
    },
    {
      "cell_type": "code",
      "execution_count": null,
      "metadata": {
        "colab": {
          "base_uri": "https://localhost:8080/"
        },
        "id": "_ijFYZoeowGf",
        "outputId": "d9daf215-e5e0-4df4-ba07-1b659d1e6189"
      },
      "outputs": [
        {
          "output_type": "stream",
          "name": "stdout",
          "text": [
            "Drive already mounted at /content/drive; to attempt to forcibly remount, call drive.mount(\"/content/drive\", force_remount=True).\n"
          ]
        }
      ],
      "source": [
        "# Import Libraries\n",
        "import pandas as pd\n",
        "import matplotlib.pyplot as plt\n",
        "import seaborn as sns\n",
        "\n",
        "# Import data from Google Drive\n",
        "from google.colab import drive\n",
        "drive.mount('/content/drive')\n",
        "project_dir = 'drive/MyDrive/Capstone/'\n",
        "dataset = pd.read_excel(project_dir+'FT100.xlsx',sheet_name=['2022','2021','2020','2019','3_years','feature_engineer'])\n",
        "\n",
        "df = dataset['feature_engineer']"
      ]
    },
    {
      "cell_type": "markdown",
      "source": [
        "Define X and Y"
      ],
      "metadata": {
        "id": "KphpMWc_rYpr"
      }
    },
    {
      "cell_type": "code",
      "source": [
        "#X\n",
        "rank = df['#']\n",
        "\n",
        "#Y\n",
        "metrics = [\n",
        "    'Overall satisfaction',\n",
        "    'Career service rank',\n",
        "    'Faculty with doctorates (%)',\n",
        "    'Women on board (%)',\n",
        "    'International course experience rank',\n",
        "    'International faculty (%)',\n",
        "    'International mobility rank',\n",
        "    'Employed in three months',\n",
        "    'Career progress rank',\n",
        "    'Female students (%)',\n",
        "    'Female faculty (%)',\n",
        "    'Value for money rank',\n",
        "    'International students (%)',\n",
        "    'Internships (%)',\n",
        "    'International board (%)',\n",
        "    'Weighted salary (US$)',\n",
        "    'Aims achieved (%)',\n",
        "    'Company internships (%)',\n",
        "    'Salary percentage increase',\n",
        "    'Salary today (US$)',\n",
        "    'Average course length (months)',\n",
        "    #'Overall satisfaction Growth Rate',\n",
        "    'Overall satisfaction Initial-Final Difference',\n",
        "    'Weighted Salary Binary',\n",
        "    #'Weighted Salary Category',\n",
        "    'Gender Diversity Score']\n",
        "    #'Overall satisfaction Z-score']"
      ],
      "metadata": {
        "id": "S5M8yQatrbnJ"
      },
      "execution_count": null,
      "outputs": []
    },
    {
      "cell_type": "markdown",
      "source": [
        "## Feature Selection (Filter Method vs Wrapper Method)\n",
        "![1.png](data:image/png;base64,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)"
      ],
      "metadata": {
        "id": "L1xR3wLgo9Ra"
      }
    },
    {
      "cell_type": "markdown",
      "source": [
        "### 1. Filter Method:\n",
        "\n",
        "**Explain**\n",
        "- *Filter Method*: Assign score to each feature and rank by score, eventually \"k\" features have higher score than given threshold will be selected.\n",
        "- In this example I use SelectKBest to select the top k features\n",
        "- *SelectKBest*: is feature selection method of Scikit-learn library according to highest K score --> Purpose is to improve the performance of models by reducing the dimensionality of the data.\n",
        "\n",
        "\n"
      ],
      "metadata": {
        "id": "jEsRpNjvpB0B"
      }
    },
    {
      "cell_type": "code",
      "source": [
        "import pandas as pd\n",
        "import numpy as np\n",
        "from sklearn.model_selection import train_test_split\n",
        "from sklearn.feature_selection import SelectKBest, f_classif\n",
        "from sklearn.ensemble import RandomForestClassifier, GradientBoostingClassifier\n",
        "from sklearn.feature_selection import RFE\n",
        "from xgboost import XGBClassifier\n",
        "\n",
        "y = rank\n",
        "X = df[metrics]\n",
        "\n",
        "# Split dataset\n",
        "X_train, X_test, y_train, y_test = train_test_split(X, y, test_size=0.2, random_state=42)\n",
        "\n",
        "# number of features to select\n",
        "k = 15\n",
        "select_k_best = SelectKBest(f_classif, k=k)\n",
        "X_train_selected = select_k_best.fit_transform(X_train, y_train)\n",
        "X_test_selected = select_k_best.transform(X_test)\n",
        "\n",
        "# Get selected feature names\n",
        "selected_features = X.columns[select_k_best.get_support()]\n",
        "print(\"Selected features (Filter Method): \", selected_features.tolist())"
      ],
      "metadata": {
        "colab": {
          "base_uri": "https://localhost:8080/"
        },
        "id": "7bF99Z1ZrOSx",
        "outputId": "bb672cea-b797-429e-fdd1-01e55901dc94"
      },
      "execution_count": null,
      "outputs": [
        {
          "output_type": "stream",
          "name": "stdout",
          "text": [
            "Selected features (Filter Method):  ['Overall satisfaction', 'Career service rank', 'Women on board (%)', 'International course experience rank', 'International mobility rank', 'Employed in three months', 'Career progress rank', 'Female faculty (%)', 'International students (%)', 'Weighted salary (US$)', 'Aims achieved (%)', 'Salary percentage increase', 'Salary today (US$)', 'Weighted Salary Binary', 'Gender Diversity Score']\n"
          ]
        }
      ]
    },
    {
      "cell_type": "markdown",
      "source": [
        "### 2. Wrapper Method\n",
        "**Explain**\n",
        "\n",
        "Filter Method: Assign score to each feature and rank by score, eventually \"k\" features have higher score than given threshold will be selected.\n",
        "In this example I use SelectKBest to select the top k features\n",
        "SelectKBest: is feature selection method of Scikit-learn library according to highest K score --> Purpose is to improve the performance of models by reducing the dimensionality of the data."
      ],
      "metadata": {
        "id": "xXflzcxHr0iT"
      }
    },
    {
      "cell_type": "code",
      "source": [
        "import pandas as pd\n",
        "from sklearn.ensemble import GradientBoostingClassifier\n",
        "from sklearn.feature_selection import RFE\n",
        "\n",
        "# Assuming X_train, y_train are already defined\n",
        "\n",
        "k = 15\n",
        "rfe_selector = RFE(estimator=GradientBoostingClassifier(), n_features_to_select=k, step=1)\n",
        "rfe_selector = rfe_selector.fit(X_train, y_train)\n",
        "\n",
        "# Get the rankings of the features\n",
        "ranking = rfe_selector.ranking_\n",
        "selected_mask = rfe_selector.support_\n",
        "feature_importances = rfe_selector.estimator_.feature_importances_\n",
        "\n",
        "# Map the feature importances to the names of the selected features\n",
        "selected_feature_names = X_train.columns[selected_mask]\n",
        "\n",
        "print(selected_feature_names)\n",
        "\n",
        "# Prepare the data for the DataFrame\n",
        "selected_features = {\n",
        "    'Feature Name': selected_feature_names,\n",
        "    'Score': feature_importances\n",
        "}\n",
        "\n",
        "# Create the DataFrame\n",
        "selected_features_df = pd.DataFrame(selected_features)\n",
        "\n",
        "# Sort the DataFrame by score in descending order\n",
        "selected_features_df.sort_values(by='Score', ascending=False, inplace=True)\n",
        "\n",
        "# Reset index for the DataFrame\n",
        "selected_features_df.reset_index(drop=True, inplace=True)\n",
        "\n",
        "# Display the DataFrame\n",
        "print(selected_features_df)"
      ],
      "metadata": {
        "colab": {
          "base_uri": "https://localhost:8080/"
        },
        "id": "5iAQNosOuTDa",
        "outputId": "74864973-8561-4030-d0c1-78e35ee31a41"
      },
      "execution_count": null,
      "outputs": [
        {
          "output_type": "stream",
          "name": "stdout",
          "text": [
            "Index(['Overall satisfaction', 'Career service rank', 'Women on board (%)',\n",
            "       'International course experience rank', 'International mobility rank',\n",
            "       'Employed in three months', 'Career progress rank',\n",
            "       'Female students (%)', 'Female faculty (%)',\n",
            "       'International students (%)', 'Weighted salary (US$)',\n",
            "       'Salary percentage increase', 'Salary today (US$)',\n",
            "       'Average course length (months)',\n",
            "       'Overall satisfaction Initial-Final Difference'],\n",
            "      dtype='object')\n",
            "                                     Feature Name     Score\n",
            "0                        Employed in three months  0.099245\n",
            "1                              Salary today (US$)  0.083816\n",
            "2                     International mobility rank  0.077668\n",
            "3                             Career service rank  0.073286\n",
            "4                            Career progress rank  0.072588\n",
            "5            International course experience rank  0.072184\n",
            "6                              Female faculty (%)  0.067690\n",
            "7                      Salary percentage increase  0.065770\n",
            "8                             Female students (%)  0.063611\n",
            "9                              Women on board (%)  0.061517\n",
            "10                     International students (%)  0.058170\n",
            "11                          Weighted salary (US$)  0.054649\n",
            "12                 Average course length (months)  0.053058\n",
            "13  Overall satisfaction Initial-Final Difference  0.048959\n",
            "14                           Overall satisfaction  0.047789\n"
          ]
        }
      ]
    },
    {
      "cell_type": "markdown",
      "source": [
        "### 3. Embedded Method"
      ],
      "metadata": {
        "id": "BM5vhHk5xwfp"
      }
    },
    {
      "cell_type": "code",
      "source": [
        "rf = RandomForestClassifier(n_estimators=100, random_state=42)\n",
        "rf.fit(X_train, y_train)\n",
        "\n",
        "# Get feature importances\n",
        "importances = rf.feature_importances_\n",
        "indices = np.argsort(importances)[::-1]\n",
        "\n",
        "# Select top k features\n",
        "selected_features_embedded = X.columns[indices[:k]]\n",
        "print(\"Selected features (Embedded Method):\", selected_features_embedded)"
      ],
      "metadata": {
        "colab": {
          "base_uri": "https://localhost:8080/"
        },
        "id": "fmi1CmcbxwRK",
        "outputId": "572b1edc-d57b-43a4-b9bf-868a4ad17513"
      },
      "execution_count": null,
      "outputs": [
        {
          "output_type": "stream",
          "name": "stdout",
          "text": [
            "Selected features (Embedded Method): Index(['Aims achieved (%)', 'International mobility rank',\n",
            "       'Career service rank', 'Career progress rank', 'Weighted salary (US$)',\n",
            "       'International course experience rank', 'Salary percentage increase',\n",
            "       'Overall satisfaction', 'Female faculty (%)',\n",
            "       'Employed in three months',\n",
            "       'Overall satisfaction Initial-Final Difference',\n",
            "       'International students (%)', 'Value for money rank',\n",
            "       'Gender Diversity Score', 'Salary today (US$)',\n",
            "       'International board (%)', 'International faculty (%)'],\n",
            "      dtype='object')\n"
          ]
        }
      ]
    },
    {
      "cell_type": "code",
      "source": [],
      "metadata": {
        "id": "x8XFkBGSDheR"
      },
      "execution_count": null,
      "outputs": []
    }
  ]
}